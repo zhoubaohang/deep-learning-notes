{
 "cells": [
  {
   "cell_type": "markdown",
   "metadata": {},
   "source": [
    "# GAN 实验"
   ]
  },
  {
   "cell_type": "code",
   "execution_count": 1,
   "metadata": {},
   "outputs": [],
   "source": [
    "# 导入必备的库\n",
    "import os\n",
    "\n",
    "os.chdir('../../')\n",
    "\n",
    "import numpy as np\n",
    "import matplotlib.pyplot as plt\n",
    "from mnist_loader import load_data\n",
    "from nn.layers import Dense\n",
    "from nn.utils import Activation, Droupout\n",
    "from nn.gan import GAN, Generator, Discriminator"
   ]
  },
  {
   "cell_type": "code",
   "execution_count": 2,
   "metadata": {},
   "outputs": [],
   "source": [
    "# 加载 MNIST 训练数据\n",
    "(train_X,_), _, _ = load_data()\n",
    "\n",
    "# 将 训练数据从[0,1]范围转换到[-1,1]\n",
    "train_X = train_X * 2. - 1."
   ]
  },
  {
   "cell_type": "code",
   "execution_count": 3,
   "metadata": {},
   "outputs": [],
   "source": [
    "# 添加生成器\n",
    "generator = Generator(layers=[Dense(256),\n",
    "                              Activation('relu', leaky_rate=0.01),\n",
    "                              Dense(784),\n",
    "                              Activation('tanh')])\n",
    "# 添加判别器\n",
    "discriminator = Discriminator(layers=[Dense(64),\n",
    "                                      Activation('relu', leaky_rate=0.01),\n",
    "                                      Dense(1),\n",
    "                                      Activation('sigmoid')])\n",
    "\n",
    "# 实例化网络\n",
    "gan = GAN(generator, discriminator, lr=0.01, decay_rate=1e-4)"
   ]
  },
  {
   "cell_type": "code",
   "execution_count": 4,
   "metadata": {},
   "outputs": [
    {
     "name": "stdout",
     "output_type": "stream",
     "text": [
      "epoch 1/100:[##################################################]100.00% \tloss_g 0.658039\tloss_d 0.764890\n",
      "epoch 2/100:[##################################################]100.00% \tloss_g 0.667575\tloss_d 0.740810\n",
      "epoch 3/100:[##################################################]100.00% \tloss_g 0.671624\tloss_d 0.732135\n",
      "epoch 4/100:[##################################################]100.00% \tloss_g 0.673036\tloss_d 0.728763\n",
      "epoch 5/100:[##################################################]100.00% \tloss_g 0.673383\tloss_d 0.727238\n",
      "epoch 6/100:[##################################################]100.00% \tloss_g 0.673402\tloss_d 0.726577\n",
      "epoch 7/100:[##################################################]100.00% \tloss_g 0.673398\tloss_d 0.727225\n",
      "epoch 8/100:[##################################################]100.00% \tloss_g 0.673445\tloss_d 0.728243\n",
      "epoch 9/100:[##################################################]100.00% \tloss_g 0.673529\tloss_d 0.727944\n",
      "epoch 10/100:[##################################################]100.00% \tloss_g 0.673581\tloss_d 0.727959\n",
      "epoch 11/100:[##################################################]100.00% \tloss_g 0.673568\tloss_d 0.729397\n",
      "epoch 12/100:[##################################################]100.00% \tloss_g 0.673441\tloss_d 0.731304\n",
      "epoch 13/100:[##################################################]100.00% \tloss_g 0.673190\tloss_d 0.730933\n",
      "epoch 14/100:[##################################################]100.00% \tloss_g 0.672789\tloss_d 0.733256\n",
      "epoch 15/100:[##################################################]100.00% \tloss_g 0.672285\tloss_d 0.734852\n",
      "epoch 16/100:[##################################################]100.00% \tloss_g 0.671578\tloss_d 0.736598\n",
      "epoch 17/100:[##################################################]100.00% \tloss_g 0.670699\tloss_d 0.739889\n",
      "epoch 18/100:[##################################################]100.00% \tloss_g 0.669627\tloss_d 0.741309\n",
      "epoch 19/100:[##################################################]100.00% \tloss_g 0.668361\tloss_d 0.745539\n",
      "epoch 20/100:[##################################################]100.00% \tloss_g 0.666826\tloss_d 0.749393\n",
      "epoch 21/100:[##################################################]100.00% \tloss_g 0.665029\tloss_d 0.754128\n",
      "epoch 22/100:[##################################################]100.00% \tloss_g 0.662804\tloss_d 0.760626\n",
      "epoch 23/100:[##################################################]100.00% \tloss_g 0.660242\tloss_d 0.764313\n",
      "epoch 24/100:[##################################################]100.00% \tloss_g 0.657190\tloss_d 0.771833\n",
      "epoch 25/100:[##################################################]100.00% \tloss_g 0.653654\tloss_d 0.780874\n",
      "epoch 26/100:[##################################################]100.00% \tloss_g 0.649443\tloss_d 0.789361\n",
      "epoch 27/100:[##################################################]100.00% \tloss_g 0.644675\tloss_d 0.800837\n",
      "epoch 28/100:[##################################################]100.00% \tloss_g 0.639262\tloss_d 0.814645\n",
      "epoch 29/100:[##################################################]100.00% \tloss_g 0.633001\tloss_d 0.828035\n",
      "epoch 30/100:[##################################################]100.00% \tloss_g 0.625950\tloss_d 0.844594\n",
      "epoch 31/100:[##################################################]100.00% \tloss_g 0.618382\tloss_d 0.863553\n",
      "epoch 32/100:[##################################################]100.00% \tloss_g 0.610224\tloss_d 0.884121\n",
      "epoch 33/100:[##################################################]100.00% \tloss_g 0.601808\tloss_d 0.906195\n",
      "epoch 34/100:[##################################################]100.00% \tloss_g 0.592996\tloss_d 0.930109\n",
      "epoch 35/100:[##################################################]100.00% \tloss_g 0.584027\tloss_d 0.956567\n",
      "epoch 36/100:[##################################################]100.00% \tloss_g 0.574540\tloss_d 0.978253\n",
      "epoch 37/100:[##################################################]100.00% \tloss_g 0.566114\tloss_d 1.002739\n",
      "epoch 38/100:[##################################################]100.00% \tloss_g 0.555927\tloss_d 1.034095\n",
      "epoch 39/100:[##################################################]100.00% \tloss_g 0.546580\tloss_d 1.062604\n",
      "epoch 40/100:[##################################################]100.00% \tloss_g 0.537755\tloss_d 1.086721\n",
      "epoch 41/100:[##################################################]100.00% \tloss_g 0.528758\tloss_d 1.116685\n",
      "epoch 42/100:[##################################################]100.00% \tloss_g 0.520944\tloss_d 1.148531\n",
      "epoch 43/100:[##################################################]100.00% \tloss_g 0.513476\tloss_d 1.167859\n",
      "epoch 44/100:[##################################################]100.00% \tloss_g 0.507201\tloss_d 1.190725\n",
      "epoch 45/100:[##################################################]100.00% \tloss_g 0.503627\tloss_d 1.203273\n",
      "epoch 46/100:[##################################################]100.00% \tloss_g 0.502036\tloss_d 1.215213\n",
      "epoch 47/100:[##################################################]100.00% \tloss_g 0.502779\tloss_d 1.217951\n",
      "epoch 48/100:[##################################################]100.00% \tloss_g 0.511066\tloss_d 1.200633\n",
      "epoch 49/100:[##################################################]100.00% \tloss_g 0.525332\tloss_d 1.171319\n",
      "epoch 50/100:[##################################################]100.00% \tloss_g 0.546422\tloss_d 1.126513\n",
      "epoch 51/100:[##################################################]100.00% \tloss_g 0.568693\tloss_d 1.072610\n",
      "epoch 52/100:[##################################################]100.00% \tloss_g 0.590461\tloss_d 1.021254\n",
      "epoch 53/100:[##################################################]100.00% \tloss_g 0.611485\tloss_d 0.945218\n",
      "epoch 54/100:[##################################################]100.00% \tloss_g 0.625802\tloss_d 0.935709\n",
      "epoch 55/100:[##################################################]100.00% \tloss_g 0.645893\tloss_d 0.859112\n",
      "epoch 56/100:[##################################################]100.00% \tloss_g 0.654642\tloss_d 0.850741\n",
      "epoch 57/100:[##################################################]100.00% \tloss_g 0.662448\tloss_d 0.804713\n",
      "epoch 58/100:[##################################################]100.00% \tloss_g 0.679501\tloss_d 0.779364\n",
      "epoch 59/100:[##################################################]100.00% \tloss_g 0.677500\tloss_d 0.780085\n",
      "epoch 60/100:[##################################################]100.00% \tloss_g 0.678619\tloss_d 0.769341\n",
      "epoch 61/100:[##################################################]100.00% \tloss_g 0.683274\tloss_d 0.758721\n",
      "epoch 62/100:[##################################################]100.00% \tloss_g 0.678660\tloss_d 0.749175\n",
      "epoch 63/100:[##################################################]100.00% \tloss_g 0.689305\tloss_d 0.750212\n",
      "epoch 64/100:[##################################################]100.00% \tloss_g 0.686847\tloss_d 0.739591\n",
      "epoch 65/100:[##################################################]100.00% \tloss_g 0.683271\tloss_d 0.749284\n",
      "epoch 66/100:[##################################################]100.00% \tloss_g 0.688954\tloss_d 0.736634\n",
      "epoch 67/100:[##################################################]100.00% \tloss_g 0.688205\tloss_d 0.726077\n",
      "epoch 68/100:[##################################################]100.00% \tloss_g 0.686290\tloss_d 0.744896\n",
      "epoch 69/100:[##################################################]100.00% \tloss_g 0.688407\tloss_d 0.743035\n",
      "epoch 70/100:[##################################################]100.00% \tloss_g 0.690893\tloss_d 0.715215\n",
      "epoch 71/100:[##################################################]100.00% \tloss_g 0.689954\tloss_d 0.723071\n",
      "epoch 72/100:[##################################################]100.00% \tloss_g 0.690986\tloss_d 0.740727\n",
      "epoch 73/100:[##################################################]100.00% \tloss_g 0.690007\tloss_d 0.726497\n",
      "epoch 74/100:[##################################################]100.00% \tloss_g 0.686305\tloss_d 0.728042\n",
      "epoch 75/100:[##################################################]100.00% \tloss_g 0.687663\tloss_d 0.733876\n",
      "epoch 76/100:[##################################################]100.00% \tloss_g 0.689996\tloss_d 0.720184\n",
      "epoch 77/100:[##################################################]100.00% \tloss_g 0.686841\tloss_d 0.727422\n",
      "epoch 78/100:[##################################################]100.00% \tloss_g 0.687533\tloss_d 0.719450\n",
      "epoch 79/100:[##################################################]100.00% \tloss_g 0.689277\tloss_d 0.723348\n",
      "epoch 80/100:[##################################################]100.00% \tloss_g 0.690431\tloss_d 0.722104\n",
      "epoch 81/100:[##################################################]100.00% \tloss_g 0.689396\tloss_d 0.714710\n",
      "epoch 82/100:[##################################################]100.00% \tloss_g 0.691018\tloss_d 0.721333\n",
      "epoch 83/100:[##################################################]100.00% \tloss_g 0.691086\tloss_d 0.716044\n",
      "epoch 84/100:[##################################################]100.00% \tloss_g 0.687114\tloss_d 0.722449\n",
      "epoch 85/100:[##################################################]100.00% \tloss_g 0.690063\tloss_d 0.717260\n",
      "epoch 86/100:[##################################################]100.00% \tloss_g 0.688016\tloss_d 0.719876\n",
      "epoch 87/100:[##################################################]100.00% \tloss_g 0.686461\tloss_d 0.714632\n",
      "epoch 88/100:[##################################################]100.00% \tloss_g 0.688328\tloss_d 0.714155\n",
      "epoch 89/100:[##################################################]100.00% \tloss_g 0.687243\tloss_d 0.712065\n",
      "epoch 90/100:[##################################################]100.00% \tloss_g 0.687796\tloss_d 0.728765\n",
      "epoch 91/100:[##################################################]100.00% \tloss_g 0.688942\tloss_d 0.713124\n",
      "epoch 92/100:[##################################################]100.00% \tloss_g 0.688806\tloss_d 0.717074\n",
      "epoch 93/100:[##################################################]100.00% \tloss_g 0.688012\tloss_d 0.723290\n",
      "epoch 94/100:[##################################################]100.00% \tloss_g 0.690536\tloss_d 0.722382\n",
      "epoch 95/100:[##################################################]100.00% \tloss_g 0.688859\tloss_d 0.730304\n",
      "epoch 96/100:[##################################################]100.00% \tloss_g 0.689884\tloss_d 0.711708\n",
      "epoch 97/100:[##################################################]100.00% \tloss_g 0.688674\tloss_d 0.712361\n",
      "epoch 98/100:[##################################################]100.00% \tloss_g 0.688995\tloss_d 0.709229\n",
      "epoch 99/100:[##################################################]100.00% \tloss_g 0.687518\tloss_d 0.713410\n",
      "epoch 100/100:[##################################################]100.00% \tloss_g 0.689197\tloss_d 0.712495\n"
     ]
    },
    {
     "data": {
      "image/png": "[encoded data removed]",
      "text/plain": [
       "<matplotlib.figure.Figure at 0x1b7e743fac8>"
      ]
     },
     "metadata": {},
     "output_type": "display_data"
    }
   ],
   "source": [
    "# 训练网络\n",
    "gan.train(train_X, epoch=100, k=1, mini_batch_size=100)"
   ]
  },
  {
   "cell_type": "markdown",
   "metadata": {},
   "source": [
    "- PS: 上面的为损失函数曲线，蓝色为判别网络的损失曲线，黄色为生成网络的损失曲线。"
   ]
  },
  {
   "cell_type": "code",
   "execution_count": 8,
   "metadata": {},
   "outputs": [
    {
     "data": {
      "text/plain": [
       "(-0.5, 27.5, 27.5, -0.5)"
      ]
     },
     "execution_count": 8,
     "metadata": {},
     "output_type": "execute_result"
    },
    {
     "data": {
      "image/png": "[encoded data removed]",
      "text/plain": [
       "<matplotlib.figure.Figure at 0x1b78011e6a0>"
      ]
     },
     "metadata": {},
     "output_type": "display_data"
    }
   ],
   "source": [
    "# 生成测试图像\n",
    "test_x = np.random.uniform(-1,1,size=(100,1))\n",
    "img = gan.generate(test_x)\n",
    "fig = plt.figure()\n",
    "ax = fig.add_subplot(1,1,1)\n",
    "ax.imshow(img.reshape((28,28)), cmap='gray')\n",
    "ax.axis('off')"
   ]
  },
  {
   "cell_type": "markdown",
   "metadata": {},
   "source": [
    "- 上图为 随机向量作为输入，经过生成器输出的图片结果。已经可以很明显的看出为：3，GAN的作用已经显现出来了。"
   ]
  }
 ],
 "metadata": {
  "kernelspec": {
   "display_name": "Python 3",
   "language": "python",
   "name": "python3"
  },
  "language_info": {
   "codemirror_mode": {
    "name": "ipython",
    "version": 3
   },
   "file_extension": ".py",
   "mimetype": "text/x-python",
   "name": "python",
   "nbconvert_exporter": "python",
   "pygments_lexer": "ipython3",
   "version": "3.6.6"
  }
 },
 "nbformat": 4,
 "nbformat_minor": 2
}
