{
 "cells": [
  {
   "cell_type": "code",
   "execution_count": 1,
   "metadata": {},
   "outputs": [],
   "source": [
    "# 导入必要的库\n",
    "import os\n",
    "os.chdir('../')\n",
    "\n",
    "import numpy as np\n",
    "import matplotlib.pyplot as plt\n",
    "import tensorflow as tf"
   ]
  },
  {
   "cell_type": "code",
   "execution_count": 2,
   "metadata": {},
   "outputs": [
    {
     "name": "stdout",
     "output_type": "stream",
     "text": [
      "train_x : (9995, 5), train_y : (9995,) test_x : (995, 5), test_y : (995,)\n"
     ]
    }
   ],
   "source": [
    "# 训练数据个数\n",
    "data_size = 10000\n",
    "# 测试数据个数\n",
    "testing_examples = 1000\n",
    "# sin函数的采样间隔\n",
    "sample_gap = 0.01\n",
    "# 每个训练样本的长度\n",
    "time_step_size = 5\n",
    "\n",
    "def generate_data(seq):\n",
    "    X = []\n",
    "    y = []\n",
    "\n",
    "    for i in range(len(seq) - time_step_size):\n",
    "        X.append(seq[i : i+time_step_size])\n",
    "        y.append(seq[i+time_step_size])\n",
    "\n",
    "    return np.array(X, dtype=np.float32), np.array(y, dtype=np.float32)\n",
    "\n",
    "test_start = data_size*sample_gap\n",
    "test_end = test_start + data_size*sample_gap\n",
    "\n",
    "train_x, train_y = generate_data(np.sin(np.linspace(0, test_start, data_size)))\n",
    "test_x, test_y = generate_data(np.sin(np.linspace(test_start, test_end, testing_examples)))\n",
    "\n",
    "print('train_x : {}, train_y : {}'.format(train_x.shape, train_y.shape),\n",
    "      'test_x : {}, test_y : {}'.format(test_x.shape, test_y.shape))"
   ]
  },
  {
   "cell_type": "code",
   "execution_count": 10,
   "metadata": {},
   "outputs": [],
   "source": [
    "###############################################################################\n",
    "#                            Model   Parameter                                #\n",
    "#                               lr : 学习率                                   #\n",
    "#                       input_size : 输入维数                                 #\n",
    "#                      output_size : 输出维数                                 #\n",
    "#                      hidden_size : 隐藏层维数                               #\n",
    "#                       batch_size : 批大小                                   #\n",
    "###############################################################################\n",
    "lr = 1e-3\n",
    "input_size = 1\n",
    "output_size = 1\n",
    "hidden_size = 64\n",
    "batch_size = 64\n",
    "\n",
    "# 重置 tensorflow 计算图\n",
    "tf.reset_default_graph()"
   ]
  },
  {
   "cell_type": "code",
   "execution_count": 11,
   "metadata": {},
   "outputs": [],
   "source": [
    "###############################################################################\n",
    "#                               RNN   architecture                            #\n",
    "###############################################################################\n",
    "x = tf.placeholder(tf.float32, [None, time_step_size, input_size])\n",
    "y = tf.placeholder(tf.float32, [None, output_size])\n",
    "# RNN cell\n",
    "cell = tf.contrib.rnn.GRUCell(hidden_size)\n",
    "# defining initial state\n",
    "initial_state = cell.zero_state(batch_size, dtype=tf.float32)\n",
    "# 'state' is a tensor of shape [batch_size, cell_state_size]\n",
    "outputs, state = tf.nn.dynamic_rnn(cell,\n",
    "                                   x,\n",
    "                                   initial_state=initial_state,\n",
    "                                   dtype=tf.float32)\n",
    "# output layer\n",
    "W = tf.get_variable(name = 'output_layer_W',\n",
    "                    shape = (hidden_size, output_size),\n",
    "                    initializer=tf.contrib.layers.xavier_initializer())\n",
    "b = tf.get_variable(name = 'output_layer_b',\n",
    "                    shape = (1, output_size),\n",
    "                    initializer=tf.constant_initializer(0))\n",
    "output = tf.matmul(outputs[:,-1], W) + b\n",
    "\n",
    "loss = tf.reduce_mean(tf.abs(output - y))\n",
    "optimizer = tf.train.AdamOptimizer(lr).minimize(loss)"
   ]
  },
  {
   "cell_type": "code",
   "execution_count": 12,
   "metadata": {},
   "outputs": [
    {
     "name": "stdout",
     "output_type": "stream",
     "text": [
      "epoch 12 loss : 0.02230345830321312\n",
      "epoch 24 loss : 0.019675523042678833\n",
      "epoch 36 loss : 0.01689651608467102\n",
      "epoch 48 loss : 0.012267905287444592\n",
      "epoch 60 loss : 0.010291705839335918\n",
      "epoch 72 loss : 0.008620242588222027\n",
      "epoch 84 loss : 0.007919215597212315\n",
      "epoch 96 loss : 0.005264157894998789\n",
      "epoch 108 loss : 0.005410676822066307\n",
      "epoch 120 loss : 0.00481170741841197\n"
     ]
    },
    {
     "data": {
      "image/png": "[encoded data removed]",
      "text/plain": [
       "<matplotlib.figure.Figure at 0x1407d89e668>"
      ]
     },
     "metadata": {},
     "output_type": "display_data"
    }
   ],
   "source": [
    "###############################################################################\n",
    "#                               Model train                                   #\n",
    "###############################################################################\n",
    "iteration = data_size // batch_size\n",
    "\n",
    "session = tf.Session()\n",
    "\n",
    "with session.as_default() as sess:\n",
    "    sess.run(tf.global_variables_initializer())\n",
    "\n",
    "    epoch = 120\n",
    "    for i in range(1, epoch+1):\n",
    "\n",
    "        losses = []\n",
    "\n",
    "        for j in range(iteration):\n",
    "            index = np.random.choice(iteration-1)\n",
    "            start = index * batch_size\n",
    "            end = (index+1) * batch_size\n",
    "            feed_dict = {x:train_x[start:end,:,None], y:train_y[start:end,None]}\n",
    "\n",
    "            cost, _ = sess.run([loss, optimizer], feed_dict=feed_dict)\n",
    "            losses.append(cost)\n",
    "        if i % (epoch / 10) == 0:\n",
    "            print('epoch {} loss : {}'.format(i, np.mean(losses)))\n",
    "\n",
    "    py, = sess.run([output], feed_dict={x:test_x[:batch_size,:,None]})\n",
    "    plt.plot(py, 'r', label='predicted')\n",
    "    plt.plot(test_y[:batch_size], 'b', label='real')\n",
    "    plt.legend(loc=1)"
   ]
  }
 ],
 "metadata": {
  "kernelspec": {
   "display_name": "Python 3",
   "language": "python",
   "name": "python3"
  },
  "language_info": {
   "codemirror_mode": {
    "name": "ipython",
    "version": 3
   },
   "file_extension": ".py",
   "mimetype": "text/x-python",
   "name": "python",
   "nbconvert_exporter": "python",
   "pygments_lexer": "ipython3",
   "version": "3.6.6"
  }
 },
 "nbformat": 4,
 "nbformat_minor": 2
}
